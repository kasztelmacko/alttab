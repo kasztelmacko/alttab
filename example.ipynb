{
 "cells": [
  {
   "cell_type": "markdown",
   "metadata": {},
   "source": [
    "# Introduction to Order Distribution Generator\n",
    "\n",
    "This example Python notebook showcases the usage of the `OrderDistributionGenerator` module. This module helps generate synthetic orders based on assumed distributions and factors. Each order is distributed across periods with calculated probabilities. These probabilities are then used to generate a DataFrame of orders with given products.\n",
    "\n",
    "In this notebook, we will:\n",
    "1. Define the parameters for generating orders.\n",
    "2. Use the `OrderDistributionGenerator` to create synthetic orders.\n",
    "3. Visualize the cumulative orders over time.\n",
    "4. Generate a DataFrame of orders with product details."
   ]
  },
  {
   "cell_type": "markdown",
   "metadata": {},
   "source": [
    "The package uses primarly polars, pydantic, numpy packages"
   ]
  },
  {
   "cell_type": "code",
   "execution_count": 1,
   "metadata": {},
   "outputs": [],
   "source": [
    "from order_generator import OrderDistributionGenerator\n",
    "import polars as pl\n",
    "from datetime import datetime"
   ]
  },
  {
   "cell_type": "markdown",
   "metadata": {},
   "source": [
    "The arguments to generate `OrderDistributionGenerator`:\n",
    "- `start_date`: start date of the period,\n",
    "- `end_date`: end date of the period,\n",
    "- `total_orders`: number of orders to distribute in period,\n",
    "- `month_probabilities`: list of probabilites for each month (needed for Monthly, Daily, Hourly Distributions),\n",
    "- `day_of_week_factor`: list of multipliers for each day of week (Optional)\n",
    "- `day_of_month_factor`: list of multipliers for each day of month (Optional),\n",
    "- `hour_probabilities`: list of probabilites for each hour (needed for Hourly Distribution), ,\n",
    "- `noise_std_dev`: standard deviation for the noising"
   ]
  },
  {
   "cell_type": "code",
   "execution_count": 3,
   "metadata": {},
   "outputs": [],
   "source": [
    "start_date = datetime(2025, 1, 1)\n",
    "end_date = datetime(2025, 1, 31)\n",
    "total_orders = 1000\n",
    "\n",
    "# list of probabilities for each month, index 0 is January, index 11 is December (default = [1.0 / 12] * 12)\n",
    "month_probabilities = [0.05, 0.05, 0.05, 0.05, 0.05, 0.10, 0.10, 0.20, 0.15, 0.05, 0.05, 0.10]\n",
    "\n",
    "# list of multipliers for days of week, index 0 is Monday, index 6 is Sunday (default = [1.0] * 7)\n",
    "day_of_week_factor = [1, 1, 1, 1, 1, 1.5, 1.5] \n",
    "\n",
    "# list of multipliers for days of month (default = [1.0] * 31)\n",
    "day_of_month_factor = [1.0] * 31\n",
    "\n",
    "# list of probabilities for each hour, index 0 is 00:00, index 23 is 23:00 (default = [1.0 / 24] * 24)\n",
    "hour_probabilities = [0, 0, 0, 0, 0, 0, 0, 0, 0.05, 0.05, 0.05, 0.05, 0.05, 0.05, 0.1, 0.1, 0.1, 0.1, 0.15, 0.15, 0, 0, 0, 0]\n",
    "\n",
    "# standard deviation used to Noise the distributions\n",
    "noise_std_dev = 0.2"
   ]
  },
  {
   "cell_type": "markdown",
   "metadata": {},
   "source": [
    "Using `OrderDistributionGenerator` we can create an order distribution object"
   ]
  },
  {
   "cell_type": "code",
   "execution_count": 4,
   "metadata": {},
   "outputs": [],
   "source": [
    "orders = OrderDistributionGenerator(\n",
    "    start_date=start_date,\n",
    "    end_date=end_date,\n",
    "    total_orders=total_orders,\n",
    "    month_probabilities=month_probabilities,\n",
    "    day_of_week_factor=day_of_week_factor,\n",
    "    day_of_month_factor=day_of_month_factor,\n",
    "    hour_probabilities=hour_probabilities,\n",
    "    noise_std_dev=noise_std_dev\n",
    ")"
   ]
  },
  {
   "cell_type": "markdown",
   "metadata": {},
   "source": [
    "This object has three methods:\n",
    "1. print_orders_cumulated(distribution_type)\n",
    "prints the number of orders in each specified distribution_type"
   ]
  },
  {
   "cell_type": "code",
   "execution_count": 5,
   "metadata": {},
   "outputs": [
    {
     "name": "stdout",
     "output_type": "stream",
     "text": [
      "Year: 2025, Month: 1, Day of Week: 2, Day of Month: 1, Year Probability: 1.00, Month Probability: 1.00, Day Probability: 0.03, Orders 26.0\n",
      "Year: 2025, Month: 1, Day of Week: 3, Day of Month: 2, Year Probability: 1.00, Month Probability: 1.00, Day Probability: 0.04, Orders 39.0\n",
      "Year: 2025, Month: 1, Day of Week: 4, Day of Month: 3, Year Probability: 1.00, Month Probability: 1.00, Day Probability: 0.03, Orders 28.0\n",
      "Year: 2025, Month: 1, Day of Week: 5, Day of Month: 4, Year Probability: 1.00, Month Probability: 1.00, Day Probability: 0.05, Orders 50.0\n",
      "Year: 2025, Month: 1, Day of Week: 6, Day of Month: 5, Year Probability: 1.00, Month Probability: 1.00, Day Probability: 0.03, Orders 32.0\n",
      "Year: 2025, Month: 1, Day of Week: 0, Day of Month: 6, Year Probability: 1.00, Month Probability: 1.00, Day Probability: 0.03, Orders 27.0\n",
      "Year: 2025, Month: 1, Day of Week: 1, Day of Month: 7, Year Probability: 1.00, Month Probability: 1.00, Day Probability: 0.03, Orders 27.0\n",
      "Year: 2025, Month: 1, Day of Week: 2, Day of Month: 8, Year Probability: 1.00, Month Probability: 1.00, Day Probability: 0.04, Orders 43.0\n",
      "Year: 2025, Month: 1, Day of Week: 3, Day of Month: 9, Year Probability: 1.00, Month Probability: 1.00, Day Probability: 0.02, Orders 23.0\n",
      "Year: 2025, Month: 1, Day of Week: 4, Day of Month: 10, Year Probability: 1.00, Month Probability: 1.00, Day Probability: 0.02, Orders 21.0\n",
      "Year: 2025, Month: 1, Day of Week: 5, Day of Month: 11, Year Probability: 1.00, Month Probability: 1.00, Day Probability: 0.04, Orders 38.0\n",
      "Year: 2025, Month: 1, Day of Week: 6, Day of Month: 12, Year Probability: 1.00, Month Probability: 1.00, Day Probability: 0.06, Orders 58.0\n",
      "Year: 2025, Month: 1, Day of Week: 0, Day of Month: 13, Year Probability: 1.00, Month Probability: 1.00, Day Probability: 0.03, Orders 27.0\n",
      "Year: 2025, Month: 1, Day of Week: 1, Day of Month: 14, Year Probability: 1.00, Month Probability: 1.00, Day Probability: 0.03, Orders 26.0\n",
      "Year: 2025, Month: 1, Day of Week: 2, Day of Month: 15, Year Probability: 1.00, Month Probability: 1.00, Day Probability: 0.03, Orders 31.0\n",
      "Year: 2025, Month: 1, Day of Week: 3, Day of Month: 16, Year Probability: 1.00, Month Probability: 1.00, Day Probability: 0.04, Orders 35.0\n",
      "Year: 2025, Month: 1, Day of Week: 4, Day of Month: 17, Year Probability: 1.00, Month Probability: 1.00, Day Probability: 0.02, Orders 22.0\n",
      "Year: 2025, Month: 1, Day of Week: 5, Day of Month: 18, Year Probability: 1.00, Month Probability: 1.00, Day Probability: 0.03, Orders 34.0\n",
      "Year: 2025, Month: 1, Day of Week: 6, Day of Month: 19, Year Probability: 1.00, Month Probability: 1.00, Day Probability: 0.05, Orders 53.0\n",
      "Year: 2025, Month: 1, Day of Week: 0, Day of Month: 20, Year Probability: 1.00, Month Probability: 1.00, Day Probability: 0.03, Orders 29.0\n",
      "Year: 2025, Month: 1, Day of Week: 1, Day of Month: 21, Year Probability: 1.00, Month Probability: 1.00, Day Probability: 0.02, Orders 25.0\n",
      "Year: 2025, Month: 1, Day of Week: 2, Day of Month: 22, Year Probability: 1.00, Month Probability: 1.00, Day Probability: 0.03, Orders 29.0\n",
      "Year: 2025, Month: 1, Day of Week: 3, Day of Month: 23, Year Probability: 1.00, Month Probability: 1.00, Day Probability: 0.03, Orders 32.0\n",
      "Year: 2025, Month: 1, Day of Week: 4, Day of Month: 24, Year Probability: 1.00, Month Probability: 1.00, Day Probability: 0.02, Orders 25.0\n",
      "Year: 2025, Month: 1, Day of Week: 5, Day of Month: 25, Year Probability: 1.00, Month Probability: 1.00, Day Probability: 0.04, Orders 36.0\n",
      "Year: 2025, Month: 1, Day of Week: 6, Day of Month: 26, Year Probability: 1.00, Month Probability: 1.00, Day Probability: 0.03, Orders 31.0\n",
      "Year: 2025, Month: 1, Day of Week: 0, Day of Month: 27, Year Probability: 1.00, Month Probability: 1.00, Day Probability: 0.04, Orders 37.0\n",
      "Year: 2025, Month: 1, Day of Week: 1, Day of Month: 28, Year Probability: 1.00, Month Probability: 1.00, Day Probability: 0.02, Orders 25.0\n",
      "Year: 2025, Month: 1, Day of Week: 2, Day of Month: 29, Year Probability: 1.00, Month Probability: 1.00, Day Probability: 0.03, Orders 28.0\n",
      "Year: 2025, Month: 1, Day of Week: 3, Day of Month: 30, Year Probability: 1.00, Month Probability: 1.00, Day Probability: 0.03, Orders 33.0\n",
      "Year: 2025, Month: 1, Day of Week: 4, Day of Month: 31, Year Probability: 1.00, Month Probability: 1.00, Day Probability: 0.03, Orders 30.0\n",
      "Total Orders: 1000.0\n"
     ]
    }
   ],
   "source": [
    "orders.print_orders_cumulated('day')\n"
   ]
  },
  {
   "cell_type": "markdown",
   "metadata": {},
   "source": [
    "2. plot_orders_cumulated(distribution_type) plots the number of orders in specified distribution_type"
   ]
  },
  {
   "cell_type": "code",
   "execution_count": 6,
   "metadata": {},
   "outputs": [
    {
     "data": {
      "image/png": "[encoded data removed]",
      "text/plain": [
       "<Figure size 640x480 with 1 Axes>"
      ]
     },
     "metadata": {},
     "output_type": "display_data"
    }
   ],
   "source": [
    "orders.plot_orders_cumulated('day')\n"
   ]
  },
  {
   "cell_type": "markdown",
   "metadata": {},
   "source": [
    "3. create_orders_df(\n",
    "    - distribution_type: str (year, month, day, hour), \n",
    "    - item_data: pl.DataFrame (pl.DataFrame with item_name_col),\n",
    "    - item_name_col: str (column with item names), \n",
    "    - item_price_col: str (column with item prices) - Optional, \n",
    "    - item_popularity_col: str (column representing item popularity eg. number of reviews, number of previous orders) - Optional,\n",
    "    - allow_order_multiple: bool (allow one order_id to have multiple items ordered) - Optional,\n",
    "    - order_multiple_probability: float (p argument in geometric distribution) - Optional\n",
    "                        )\n"
   ]
  },
  {
   "cell_type": "code",
   "execution_count": 7,
   "metadata": {},
   "outputs": [
    {
     "name": "stdout",
     "output_type": "stream",
     "text": [
      "shape: (1_271, 7)\n",
      "┌──────────┬────────────┬──────┬───────┬──────────────┬───────────────────────────────┬────────────┐\n",
      "│ order_id ┆ order_date ┆ year ┆ month ┆ day_of_month ┆ item_name                     ┆ item_price │\n",
      "│ ---      ┆ ---        ┆ ---  ┆ ---   ┆ ---          ┆ ---                           ┆ ---        │\n",
      "│ i64      ┆ str        ┆ i64  ┆ i64   ┆ i64          ┆ str                           ┆ f64        │\n",
      "╞══════════╪════════════╪══════╪═══════╪══════════════╪═══════════════════════════════╪════════════╡\n",
      "│ 1        ┆ 2025-01-01 ┆ 2025 ┆ 1     ┆ 1            ┆ Buty Asics Gel-Cumulus 26 M   ┆ 749.99     │\n",
      "│          ┆            ┆      ┆       ┆              ┆ Cz…                           ┆            │\n",
      "│ 1        ┆ 2025-01-01 ┆ 2025 ┆ 1     ┆ 1            ┆ Buty Asics GT-2000 13 M       ┆ 749.99     │\n",
      "│          ┆            ┆      ┆       ┆              ┆ Czarno…                       ┆            │\n",
      "│ 2        ┆ 2025-01-01 ┆ 2025 ┆ 1     ┆ 1            ┆ Buty Asics Gel-Nimbus 26 M    ┆ 799.99     │\n",
      "│          ┆            ┆      ┆       ┆              ┆ Nie…                          ┆            │\n",
      "│ 2        ┆ 2025-01-01 ┆ 2025 ┆ 1     ┆ 1            ┆ Buty Hoka Clifton 9 M         ┆ 629.99     │\n",
      "│          ┆            ┆      ┆       ┆              ┆ Błękitno…                     ┆            │\n",
      "│ 3        ┆ 2025-01-01 ┆ 2025 ┆ 1     ┆ 1            ┆ Buty Brooks Ghost 16 M        ┆ 699.99     │\n",
      "│          ┆            ┆      ┆       ┆              ┆ Niebies…                      ┆            │\n",
      "│ …        ┆ …          ┆ …    ┆ …     ┆ …            ┆ …                             ┆ …          │\n",
      "│ 997      ┆ 2025-01-31 ┆ 2025 ┆ 1     ┆ 31           ┆ Buty adidas Supernova Rise M  ┆ 699.99     │\n",
      "│          ┆            ┆      ┆       ┆              ┆ C…                            ┆            │\n",
      "│ 998      ┆ 2025-01-31 ┆ 2025 ┆ 1     ┆ 31           ┆ Buty Hoka Clifton 9 M         ┆ 629.99     │\n",
      "│          ┆            ┆      ┆       ┆              ┆ Błękitno…                     ┆            │\n",
      "│ 999      ┆ 2025-01-31 ┆ 2025 ┆ 1     ┆ 31           ┆ Buty Hoka Arahi 7 M           ┆ 719.99     │\n",
      "│          ┆            ┆      ┆       ┆              ┆ Biało-Nieb…                   ┆            │\n",
      "│ 1000     ┆ 2025-01-31 ┆ 2025 ┆ 1     ┆ 31           ┆ Buty adidas Supernova Rise M  ┆ 699.99     │\n",
      "│          ┆            ┆      ┆       ┆              ┆ C…                            ┆            │\n",
      "│ 1000     ┆ 2025-01-31 ┆ 2025 ┆ 1     ┆ 31           ┆ Buty Hoka Clifton 9 M         ┆ 629.99     │\n",
      "│          ┆            ┆      ┆       ┆              ┆ Błękitno…                     ┆            │\n",
      "└──────────┴────────────┴──────┴───────┴──────────────┴───────────────────────────────┴────────────┘\n"
     ]
    },
    {
     "data": {
      "text/html": [
       "<div><style>\n",
       ".dataframe > thead > tr,\n",
       ".dataframe > tbody > tr {\n",
       "  text-align: right;\n",
       "  white-space: pre-wrap;\n",
       "}\n",
       "</style>\n",
       "<small>shape: (1_271, 7)</small><table border=\"1\" class=\"dataframe\"><thead><tr><th>order_id</th><th>order_date</th><th>year</th><th>month</th><th>day_of_month</th><th>item_name</th><th>item_price</th></tr><tr><td>i64</td><td>str</td><td>i64</td><td>i64</td><td>i64</td><td>str</td><td>f64</td></tr></thead><tbody><tr><td>1</td><td>&quot;2025-01-01&quot;</td><td>2025</td><td>1</td><td>1</td><td>&quot;Buty Asics Gel-Cumulus 26 M Cz…</td><td>749.99</td></tr><tr><td>1</td><td>&quot;2025-01-01&quot;</td><td>2025</td><td>1</td><td>1</td><td>&quot;Buty Asics GT-2000 13 M Czarno…</td><td>749.99</td></tr><tr><td>2</td><td>&quot;2025-01-01&quot;</td><td>2025</td><td>1</td><td>1</td><td>&quot;Buty Asics Gel-Nimbus 26 M Nie…</td><td>799.99</td></tr><tr><td>2</td><td>&quot;2025-01-01&quot;</td><td>2025</td><td>1</td><td>1</td><td>&quot;Buty Hoka Clifton 9 M Błękitno…</td><td>629.99</td></tr><tr><td>3</td><td>&quot;2025-01-01&quot;</td><td>2025</td><td>1</td><td>1</td><td>&quot;Buty Brooks Ghost 16 M Niebies…</td><td>699.99</td></tr><tr><td>&hellip;</td><td>&hellip;</td><td>&hellip;</td><td>&hellip;</td><td>&hellip;</td><td>&hellip;</td><td>&hellip;</td></tr><tr><td>997</td><td>&quot;2025-01-31&quot;</td><td>2025</td><td>1</td><td>31</td><td>&quot;Buty adidas Supernova Rise M C…</td><td>699.99</td></tr><tr><td>998</td><td>&quot;2025-01-31&quot;</td><td>2025</td><td>1</td><td>31</td><td>&quot;Buty Hoka Clifton 9 M Błękitno…</td><td>629.99</td></tr><tr><td>999</td><td>&quot;2025-01-31&quot;</td><td>2025</td><td>1</td><td>31</td><td>&quot;Buty Hoka Arahi 7 M Biało-Nieb…</td><td>719.99</td></tr><tr><td>1000</td><td>&quot;2025-01-31&quot;</td><td>2025</td><td>1</td><td>31</td><td>&quot;Buty adidas Supernova Rise M C…</td><td>699.99</td></tr><tr><td>1000</td><td>&quot;2025-01-31&quot;</td><td>2025</td><td>1</td><td>31</td><td>&quot;Buty Hoka Clifton 9 M Błękitno…</td><td>629.99</td></tr></tbody></table></div>"
      ],
      "text/plain": [
       "shape: (1_271, 7)\n",
       "┌──────────┬────────────┬──────┬───────┬──────────────┬───────────────────────────────┬────────────┐\n",
       "│ order_id ┆ order_date ┆ year ┆ month ┆ day_of_month ┆ item_name                     ┆ item_price │\n",
       "│ ---      ┆ ---        ┆ ---  ┆ ---   ┆ ---          ┆ ---                           ┆ ---        │\n",
       "│ i64      ┆ str        ┆ i64  ┆ i64   ┆ i64          ┆ str                           ┆ f64        │\n",
       "╞══════════╪════════════╪══════╪═══════╪══════════════╪═══════════════════════════════╪════════════╡\n",
       "│ 1        ┆ 2025-01-01 ┆ 2025 ┆ 1     ┆ 1            ┆ Buty Asics Gel-Cumulus 26 M   ┆ 749.99     │\n",
       "│          ┆            ┆      ┆       ┆              ┆ Cz…                           ┆            │\n",
       "│ 1        ┆ 2025-01-01 ┆ 2025 ┆ 1     ┆ 1            ┆ Buty Asics GT-2000 13 M       ┆ 749.99     │\n",
       "│          ┆            ┆      ┆       ┆              ┆ Czarno…                       ┆            │\n",
       "│ 2        ┆ 2025-01-01 ┆ 2025 ┆ 1     ┆ 1            ┆ Buty Asics Gel-Nimbus 26 M    ┆ 799.99     │\n",
       "│          ┆            ┆      ┆       ┆              ┆ Nie…                          ┆            │\n",
       "│ 2        ┆ 2025-01-01 ┆ 2025 ┆ 1     ┆ 1            ┆ Buty Hoka Clifton 9 M         ┆ 629.99     │\n",
       "│          ┆            ┆      ┆       ┆              ┆ Błękitno…                     ┆            │\n",
       "│ 3        ┆ 2025-01-01 ┆ 2025 ┆ 1     ┆ 1            ┆ Buty Brooks Ghost 16 M        ┆ 699.99     │\n",
       "│          ┆            ┆      ┆       ┆              ┆ Niebies…                      ┆            │\n",
       "│ …        ┆ …          ┆ …    ┆ …     ┆ …            ┆ …                             ┆ …          │\n",
       "│ 997      ┆ 2025-01-31 ┆ 2025 ┆ 1     ┆ 31           ┆ Buty adidas Supernova Rise M  ┆ 699.99     │\n",
       "│          ┆            ┆      ┆       ┆              ┆ C…                            ┆            │\n",
       "│ 998      ┆ 2025-01-31 ┆ 2025 ┆ 1     ┆ 31           ┆ Buty Hoka Clifton 9 M         ┆ 629.99     │\n",
       "│          ┆            ┆      ┆       ┆              ┆ Błękitno…                     ┆            │\n",
       "│ 999      ┆ 2025-01-31 ┆ 2025 ┆ 1     ┆ 31           ┆ Buty Hoka Arahi 7 M           ┆ 719.99     │\n",
       "│          ┆            ┆      ┆       ┆              ┆ Biało-Nieb…                   ┆            │\n",
       "│ 1000     ┆ 2025-01-31 ┆ 2025 ┆ 1     ┆ 31           ┆ Buty adidas Supernova Rise M  ┆ 699.99     │\n",
       "│          ┆            ┆      ┆       ┆              ┆ C…                            ┆            │\n",
       "│ 1000     ┆ 2025-01-31 ┆ 2025 ┆ 1     ┆ 31           ┆ Buty Hoka Clifton 9 M         ┆ 629.99     │\n",
       "│          ┆            ┆      ┆       ┆              ┆ Błękitno…                     ┆            │\n",
       "└──────────┴────────────┴──────┴───────┴──────────────┴───────────────────────────────┴────────────┘"
      ]
     },
     "execution_count": 7,
     "metadata": {},
     "output_type": "execute_result"
    }
   ],
   "source": [
    "orders.create_orders_df(distribution_type=\"day\", \n",
    "                        item_data=pl.read_csv(\"data/items.csv\"), \n",
    "                        item_name_col=\"item_name\", \n",
    "                        item_price_col=\"item_price\", \n",
    "                        item_popularity_col=\"item_reviews_count\",\n",
    "                        allow_order_multiple=True,\n",
    "                        order_multiple_probability=0.8\n",
    "                        )"
   ]
  }
 ],
 "metadata": {
  "kernelspec": {
   "display_name": "Python 3",
   "language": "python",
   "name": "python3"
  },
  "language_info": {
   "codemirror_mode": {
    "name": "ipython",
    "version": 3
   },
   "file_extension": ".py",
   "mimetype": "text/x-python",
   "name": "python",
   "nbconvert_exporter": "python",
   "pygments_lexer": "ipython3",
   "version": "3.10.7"
  }
 },
 "nbformat": 4,
 "nbformat_minor": 2
}
